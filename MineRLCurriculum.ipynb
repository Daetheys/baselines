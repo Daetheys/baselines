{
  "nbformat": 4,
  "nbformat_minor": 0,
  "metadata": {
    "colab": {
      "name": "ChainerRLMineRLPitchCurLastHope.ipynb",
      "provenance": [],
      "collapsed_sections": []
    },
    "kernelspec": {
      "name": "python3",
      "display_name": "Python 3"
    },
    "language_info": {
      "name": "python"
    },
    "accelerator": "GPU"
  },
  "cells": [
    {
      "cell_type": "markdown",
      "metadata": {
        "id": "hSOWe3POLNvP"
      },
      "source": [
        "#Install MineRL"
      ]
    },
    {
      "cell_type": "code",
      "execution_count": 1,
      "metadata": {
        "id": "MaJlXu-j5-IV"
      },
      "outputs": [],
      "source": [
        "%%capture\n",
        "!sudo add-apt-repository -y ppa:openjdk-r/ppa\n",
        "!sudo apt-get purge openjdk-*\n",
        "!sudo apt-get install openjdk-8-jdk\n",
        "!sudo apt-get install xvfb xserver-xephyr vnc4server python-opengl ffmpeg libopenal-dev\n",
        "!sudo apt-get upgrade\n",
        "!pip3 install pyvirtualdisplay\n",
        "!pip3 install -U colabgymrender\n",
        "!pip install coloredlogs\n",
        "!pip install daemoniker \n",
        "!pip install Pyro4\n",
        "!pip install xmltodict\n",
        "!pip install chainerrl\n",
        "!pip install cupy\n",
        "# !pip3 install --upgrade minerl"
      ]
    },
    {
      "cell_type": "code",
      "execution_count": 2,
      "metadata": {
        "id": "VB9LVUAiPMA7"
      },
      "outputs": [],
      "source": [
        "%%capture\n",
        "!rm -r /content/minerl\n",
        "!git clone https://github.com/minerllabs/minerl.git\n",
        "%cd /content/minerl\n",
        "!git checkout dev\n",
        "%cd /content"
      ]
    },
    {
      "cell_type": "code",
      "execution_count": 3,
      "metadata": {
        "id": "owIlzdnrPQT0",
        "colab": {
          "base_uri": "https://localhost:8080/"
        },
        "outputId": "1743ff52-a8a2-413c-c2d4-7724bea67148"
      },
      "outputs": [
        {
          "output_type": "stream",
          "name": "stdout",
          "text": [
            "rm: cannot remove '/usr/local/lib/python3.7/dist-packages/minerl': No such file or directory\n"
          ]
        }
      ],
      "source": [
        "!rm -r /usr/local/lib/python3.7/dist-packages/minerl\n",
        "!cp -RT /content/minerl/minerl /usr/local/lib/python3.7/dist-packages/minerl"
      ]
    },
    {
      "cell_type": "code",
      "execution_count": 4,
      "metadata": {
        "id": "qqGS4XXOxhgP"
      },
      "outputs": [],
      "source": [
        "%%capture\n",
        "%cd /content\n",
        "!rm -r /content/baselines\n",
        "!git clone https://github.com/Daetheys/baselines\n",
        "!cp -r /content/baselines/2019/general/chainerrl/baselines /content/tmp\n",
        "!rm -r /content/baselines\n",
        "!mv /content/tmp /content/baselines\n",
        "%cd /content/baselines/"
      ]
    },
    {
      "cell_type": "code",
      "execution_count": 5,
      "metadata": {
        "id": "Ywi4m3lx6Aoj",
        "colab": {
          "base_uri": "https://localhost:8080/"
        },
        "outputId": "cc78a98e-6d45-41b2-d69a-ee2f7a3a1f6c"
      },
      "outputs": [
        {
          "output_type": "stream",
          "name": "stderr",
          "text": [
            "/usr/local/lib/python3.7/dist-packages/gym/logger.py:30: UserWarning: \u001b[33mWARN: Box bound precision lowered by casting to float32\u001b[0m\n",
            "  warnings.warn(colorize('%s: %s'%('WARN', msg % args), 'yellow'))\n"
          ]
        },
        {
          "output_type": "stream",
          "name": "stdout",
          "text": [
            "Imageio: 'ffmpeg-linux64-v3.3.1' was not found on your computer; downloading it now.\n",
            "Try 1. Download from https://github.com/imageio/imageio-binaries/raw/master/ffmpeg/ffmpeg-linux64-v3.3.1 (43.8 MB)\n",
            "Downloading: 8192/45929032 bytes (0.0%)\b\b\b\b\b\b\b\b\b\b\b\b\b\b\b\b\b\b\b\b\b\b\b\b\b\b2555904/45929032 bytes (5.6%)\b\b\b\b\b\b\b\b\b\b\b\b\b\b\b\b\b\b\b\b\b\b\b\b\b\b\b\b\b5218304/45929032 bytes (11.4%)\b\b\b\b\b\b\b\b\b\b\b\b\b\b\b\b\b\b\b\b\b\b\b\b\b\b\b\b\b\b9199616/45929032 bytes (20.0%)\b\b\b\b\b\b\b\b\b\b\b\b\b\b\b\b\b\b\b\b\b\b\b\b\b\b\b\b\b\b13041664/45929032 bytes (28.4%)\b\b\b\b\b\b\b\b\b\b\b\b\b\b\b\b\b\b\b\b\b\b\b\b\b\b\b\b\b\b\b17006592/45929032 bytes (37.0%)\b\b\b\b\b\b\b\b\b\b\b\b\b\b\b\b\b\b\b\b\b\b\b\b\b\b\b\b\b\b\b20979712/45929032 bytes (45.7%)\b\b\b\b\b\b\b\b\b\b\b\b\b\b\b\b\b\b\b\b\b\b\b\b\b\b\b\b\b\b\b24862720/45929032 bytes (54.1%)\b\b\b\b\b\b\b\b\b\b\b\b\b\b\b\b\b\b\b\b\b\b\b\b\b\b\b\b\b\b\b28680192/45929032 bytes (62.4%)\b\b\b\b\b\b\b\b\b\b\b\b\b\b\b\b\b\b\b\b\b\b\b\b\b\b\b\b\b\b\b32620544/45929032 bytes (71.0%)\b\b\b\b\b\b\b\b\b\b\b\b\b\b\b\b\b\b\b\b\b\b\b\b\b\b\b\b\b\b\b36143104/45929032 bytes (78.7%)\b\b\b\b\b\b\b\b\b\b\b\b\b\b\b\b\b\b\b\b\b\b\b\b\b\b\b\b\b\b\b40321024/45929032 bytes (87.8%)\b\b\b\b\b\b\b\b\b\b\b\b\b\b\b\b\b\b\b\b\b\b\b\b\b\b\b\b\b\b\b44441600/45929032 bytes (96.8%)\b\b\b\b\b\b\b\b\b\b\b\b\b\b\b\b\b\b\b\b\b\b\b\b\b\b\b\b\b\b\b45929032/45929032 bytes (100.0%)\n",
            "  Done\n",
            "File saved as /root/.imageio/ffmpeg/ffmpeg-linux64-v3.3.1.\n"
          ]
        }
      ],
      "source": [
        "import gym\n",
        "import minerl\n",
        "from tqdm.notebook import tqdm\n",
        "from colabgymrender.recorder import Recorder\n",
        "from pyvirtualdisplay import Display\n",
        "\n",
        "import numpy as np\n",
        "import matplotlib.pyplot as plt"
      ]
    },
    {
      "cell_type": "code",
      "execution_count": 6,
      "metadata": {
        "id": "xhNhE3fi6COD"
      },
      "outputs": [],
      "source": [
        "display = Display(visible=0, size=(400, 300))\n",
        "display.start();"
      ]
    },
    {
      "cell_type": "markdown",
      "source": [
        "#Env"
      ],
      "metadata": {
        "id": "5MMGmZ69wzpG"
      }
    },
    {
      "cell_type": "code",
      "source": [
        "from minerl.herobraine.env_specs.simple_embodiment import SimpleEmbodimentEnvSpec\n",
        "from minerl.herobraine.hero.mc import MS_PER_STEP, STEPS_PER_MS\n",
        "from minerl.herobraine.hero.handler import Handler\n",
        "from typing import List\n",
        "\n",
        "import minerl.herobraine\n",
        "import minerl.herobraine.hero.handlers as handlers\n",
        "from minerl.herobraine.env_spec import EnvSpec\n"
      ],
      "metadata": {
        "id": "3UqPA03WbBOx"
      },
      "execution_count": 7,
      "outputs": []
    },
    {
      "cell_type": "code",
      "source": [
        "%%capture\n",
        "!git clone https://github.com/Daetheys/baselines\n",
        "%cd baselines/2019/general/chainerrl/baselines/"
      ],
      "metadata": {
        "id": "NbJ0LpxCju0K"
      },
      "execution_count": 8,
      "outputs": []
    },
    {
      "cell_type": "code",
      "source": [
        "import flat_treechop"
      ],
      "metadata": {
        "id": "iescz34blpwU"
      },
      "execution_count": 9,
      "outputs": []
    },
    {
      "cell_type": "code",
      "source": [
        "from minerl.herobraine.env_specs.simple_embodiment import SimpleEmbodimentEnvSpec\n",
        "from minerl.herobraine.hero.mc import MS_PER_STEP, STEPS_PER_MS\n",
        "from minerl.herobraine.hero.handler import Handler\n",
        "from typing import List\n",
        "\n",
        "import minerl.herobraine\n",
        "import minerl.herobraine.hero.handlers as handlers\n",
        "from minerl.herobraine.env_spec import EnvSpec\n",
        "\n",
        "TREECHOP_DOC = \"\"\"\n",
        "\"\"\"\n",
        "INFTY = 2147483647\n",
        "class Flat(SimpleEmbodimentEnvSpec):\n",
        "    def __init__(self, *args, **kwargs):\n",
        "        if 'name' not in kwargs:\n",
        "            kwargs['name'] = 'MineRLTreechopEcoFlat-v1'\n",
        "\n",
        "        self.__time = 0\n",
        "\n",
        "        super().__init__(*args,\n",
        "                         max_episode_steps=INFTY, reward_threshold=INFTY,\n",
        "                         **kwargs)\n",
        "\n",
        "    def create_actionables(self) -> List[Handler]:\n",
        "        return super().create_actionables() + [\n",
        "            handlers.EquipAction([\"diamond_axe\"]),\n",
        "            handlers.ChatAction()\n",
        "        ]\n",
        "\n",
        "    def create_rewardables(self) -> List[Handler]:\n",
        "        return [\n",
        "            handlers.RewardForCollectingItems([\n",
        "                dict(type=\"log\", amount=1, reward=1.0),\n",
        "            ])\n",
        "        ]\n",
        "\n",
        "    def create_agent_start(self) -> List[Handler]:\n",
        "        return [\n",
        "            handlers.SimpleInventoryAgentStart([\n",
        "                dict(type=\"diamond_axe\", quantity=1)\n",
        "            ]),\n",
        "            handlers.AgentStartPlacement(0, 4, 0, 0, 0)\n",
        "        ]\n",
        "\n",
        "    def create_observables(self):\n",
        "        return super().create_observables() + [\n",
        "         handlers.ObservationFromCurrentLocation()\n",
        "        ]\n",
        "\n",
        "    def create_agent_handlers(self) -> List[Handler]:\n",
        "        return []\n",
        "\n",
        "    def create_agent_handlers(self) -> List[Handler]:\n",
        "        return [\n",
        "            handlers.AgentQuitFromPossessingItem([\n",
        "                dict(type=\"log\", amount=INFTY)]\n",
        "            )\n",
        "        ]\n",
        "\n",
        "    def create_server_world_generators(self) -> List[Handler]:\n",
        "        return [\n",
        "            #handlers.DefaultWorldGenerator(force_reset=\"true\",generator_options=TREECHOP_WORLD_GENERATOR_OPTIONS)\n",
        "            handlers.FlatWorldGenerator(generatorString='1;7,2;4')\n",
        "        ]\n",
        "\n",
        "    def create_server_quit_producers(self) -> List[Handler]:\n",
        "        return [\n",
        "            handlers.ServerQuitFromTimeUp(\n",
        "                (INFTY)),\n",
        "            handlers.ServerQuitWhenAnyAgentFinishes()\n",
        "        ]\n",
        "\n",
        "    def create_server_decorators(self) -> List[Handler]:\n",
        "        return []\n",
        "\n",
        "    def create_server_initial_conditions(self) -> List[Handler]:\n",
        "        return [\n",
        "            handlers.TimeInitialCondition(\n",
        "                allow_passage_of_time=False\n",
        "            ),\n",
        "            handlers.SpawningInitialCondition(\n",
        "                allow_spawning=False\n",
        "            )\n",
        "        ]\n",
        "\n",
        "    def determine_success_from_rewards(self, rewards: list) -> bool:\n",
        "        return sum(rewards) >= self.reward_threshold\n",
        "\n",
        "    def is_from_folder(self, folder: str) -> bool:\n",
        "        return folder == 'survivaltreechop'\n",
        "\n",
        "    def get_docstring(self):\n",
        "        return TREECHOP_DOC\n",
        "\n",
        "try:\n",
        "    env_abs = Flat()\n",
        "    env_abs.register()\n",
        "except gym.error.Error:\n",
        "    pass"
      ],
      "metadata": {
        "id": "kci9kh_01aR4"
      },
      "execution_count": 10,
      "outputs": []
    },
    {
      "cell_type": "code",
      "source": [
        "env = gym.make('MineRLTreechopEcoFlat-v1')"
      ],
      "metadata": {
        "id": "RqLHSsFLN37-"
      },
      "execution_count": 11,
      "outputs": []
    },
    {
      "cell_type": "code",
      "source": [
        "env.observation_space,env.action_space"
      ],
      "metadata": {
        "colab": {
          "base_uri": "https://localhost:8080/"
        },
        "id": "XI1ys-8xPYVm",
        "outputId": "6d6f5046-4832-4138-d9d6-1478ec46493c"
      },
      "execution_count": 12,
      "outputs": [
        {
          "output_type": "execute_result",
          "data": {
            "text/plain": [
              "(Dict(location_stats:Dict(biome_id:Box(low=0, high=167, shape=()), biome_rainfall:Box(low=0.0, high=1.0, shape=()), biome_temperature:Box(low=0.0, high=1.0, shape=()), can_see_sky:Box(low=0, high=1, shape=()), is_raining:Box(low=0, high=1, shape=()), light_level:Box(low=0, high=15, shape=()), pitch:Box(low=-180.0, high=180.0, shape=()), sea_level:Box(low=0, high=255, shape=()), sky_light_level:Box(low=0.0, high=1.0, shape=()), sun_brightness:Box(low=0.0, high=1.0, shape=()), xpos:Box(low=-640000.0, high=640000.0, shape=()), yaw:Box(low=-180.0, high=180.0, shape=()), ypos:Box(low=-640000.0, high=640000.0, shape=()), zpos:Box(low=-640000.0, high=640000.0, shape=())), pov:Box(low=0, high=255, shape=(64, 64, 3))),\n",
              " Dict(attack:Discrete(2), back:Discrete(2), camera:Box(low=-180.0, high=180.0, shape=(2,)), chat:Text(1,), equip:Enum(diamond_axe,none,other), forward:Discrete(2), jump:Discrete(2), left:Discrete(2), right:Discrete(2), sneak:Discrete(2), sprint:Discrete(2)))"
            ]
          },
          "metadata": {},
          "execution_count": 12
        }
      ]
    },
    {
      "cell_type": "code",
      "source": [
        "def get_tree(x, z, h, y=2):\n",
        "    '''\n",
        "    h > 4\n",
        "    '''\n",
        "    res = []\n",
        "    \n",
        "    for i in range(y+h-1, y+h+1):\n",
        "      for j in range(x-1, x+2):\n",
        "        for k in range(z-1, z+2):\n",
        "          res.append(f\"/setblock {j} {i} {k} leaves\\n\")\n",
        "    for i in range(y+h-3, y+h-1):\n",
        "      for j in range(x-2, x+3):\n",
        "        for k in range(z-2, z+3):\n",
        "          res.append(f\"/setblock {j} {i} {k} leaves\\n\")\n",
        "    for i in range(y, y+h):\n",
        "      res.append(f\"/setblock {x} {i} {z} log\\n\")\n",
        "    return res"
      ],
      "metadata": {
        "id": "ha4Oq4piSIwe"
      },
      "execution_count": 13,
      "outputs": []
    },
    {
      "cell_type": "code",
      "source": [
        "def noop_actions ():\n",
        "  return {\n",
        "    'attack':0,            # Discrete(2)\n",
        "    'back':0,              # Discrete(2)\n",
        "    'camera':(0.0, 0.0),   # Box(low=-180.0, high=180.0, shape=(2,))\n",
        "    'equip':'diamond_axe', # Enum(diamond_axe,none,other)\n",
        "    'forward':0,           # Discrete(2)\n",
        "    'jump':0,              # Discrete(2)\n",
        "    'left':0,              # Discrete(2)\n",
        "    'right':0,             # Discrete(2)\n",
        "    'sneak':0,             # Discrete(2)\n",
        "    'sprint':0,            # Discrete(2)\n",
        "    'chat':''              # Text(1,)\n",
        "   }"
      ],
      "metadata": {
        "id": "tb0ZoE6PSbiw"
      },
      "execution_count": 14,
      "outputs": []
    },
    {
      "cell_type": "code",
      "source": [
        "import copy\n",
        "class EcologicalWrapper(gym.Wrapper):\n",
        "    def __init__(self,env):\n",
        "        super().__init__(env)\n",
        "        self.observation_space = gym.spaces.Dict({'pov':self.env.observation_space['pov']})\n",
        "        d = {}\n",
        "        for k in self.env.action_space:\n",
        "            if not(k in ['chat','equip']):\n",
        "                d[k] = self.env.action_space[k]\n",
        "        self.action_space = gym.spaces.Dict(d)\n",
        "\n",
        "        self.dist_max = 12\n",
        "        self.nb_trees = 3\n",
        "        self.spawn_radius = 8\n",
        "        self.iter = 50\n",
        "    def step(self,a):\n",
        "        a['chat'] = ''\n",
        "        a['equip'] = 'diamond_axe'\n",
        "        o,r,d,i = self.env.step(a)\n",
        "        dist = ( (o['location_stats']['xpos']-self.get_x())**2 + (o['location_stats']['zpos']-self.get_z())**2 )**0.5\n",
        "        #print(dist,o['location_stats']['xpos'],self.get_x())\n",
        "        if dist>self.dist_max:\n",
        "            d = True\n",
        "        return o,r,d,i\n",
        "\n",
        "    def get_x(self):\n",
        "        return (self.iter-1)*50\n",
        "\n",
        "    def get_z(self):\n",
        "        return (self.iter-1)*50\n",
        "\n",
        "    def spawn_trees(self):\n",
        "        for i in range(self.nb_trees):\n",
        "            x = 0;z = 0\n",
        "            while -2 < x < 2 and -2 < z < 2:\n",
        "                x = np.random.randint(-self.spawn_radius,self.spawn_radius)\n",
        "                z = np.random.randint(-self.spawn_radius,self.spawn_radius)\n",
        "            o = self.spawn_tree(x,z)\n",
        "        return o\n",
        "        \n",
        "    def spawn_tree(self,x,z):\n",
        "        h = np.random.randint(5,7)\n",
        "        cmds = get_tree(x+self.get_x(),z+self.get_z(),h)\n",
        "        for c in cmds:\n",
        "            a = noop_actions()\n",
        "            a['chat'] = c\n",
        "            o,_,_,_ = self.env.step(a)\n",
        "        return o\n",
        "\n",
        "    def spawn_player(self):\n",
        "        x = self.get_x()\n",
        "        z = self.get_z()\n",
        "        c = f'/tp @p {x} 4 {z} 0 0\\n'\n",
        "\n",
        "        a = noop_actions()\n",
        "        a['chat'] = c\n",
        "        self.env.step(a)\n",
        "\n",
        "    def reset(self):\n",
        "        if self.iter >= 50:\n",
        "            self.iter = 0\n",
        "            o = self.env.reset()\n",
        "        self.iter += 1\n",
        "        self.spawn_player()\n",
        "        o = self.spawn_trees()\n",
        "        return o\n",
        "\n"
      ],
      "metadata": {
        "id": "osUfAEvG1cZM"
      },
      "execution_count": 15,
      "outputs": []
    },
    {
      "cell_type": "markdown",
      "source": [
        "# ChaineRL"
      ],
      "metadata": {
        "id": "y4iItuqibChx"
      }
    },
    {
      "cell_type": "code",
      "execution_count": 21,
      "metadata": {
        "id": "Vs2aokj9a3XU"
      },
      "outputs": [],
      "source": [
        "%%capture\n",
        "!pip install chainerrl"
      ]
    },
    {
      "cell_type": "code",
      "source": [
        "import chainer\n",
        "import chainerrl\n",
        "\n",
        "chainerrl.misc.set_random_seed(42)\n",
        "\n",
        "gamma = 0.99\n",
        "\n",
        "def phi(x):\n",
        "    # observation -> NN input\n",
        "    return np.asarray(x)\n",
        "\n",
        "update_interval = 1024\n",
        "minibatch_size=32\n",
        "epochs=3\n",
        "clip_eps=0.1\n",
        "standardize_advantages=False\n",
        "\n",
        "outdir = './results'\n",
        "\n",
        "lr = 2.5e-4\n",
        "adam_eps = 1e-8\n",
        "\n",
        "eval_n_runs = 3\n",
        "eval_interval = (2000//4)*35\n",
        "\n",
        "frame_skip = 4\n",
        "frame_stack = 4\n",
        "\n",
        "clip_eps = 0.1\n",
        "\n",
        "always_keys = ['attack']\n",
        "reverse_keys = ['forward']\n",
        "exclude_keys = ['back','left','right','sneak','sprint']\n",
        "exclude_noop = []\n",
        "\n",
        "weight_decay = 0\n",
        "\n",
        "steps = 8000000\n",
        "\n",
        "gpu = 0\n",
        "logging_level = 20\n",
        "\n",
        "allow_pitch = True"
      ],
      "metadata": {
        "id": "GNG_2v5fcFQF"
      },
      "execution_count": 22,
      "outputs": []
    },
    {
      "cell_type": "code",
      "source": [
        "import logging\n",
        "import os\n",
        "\n",
        "outdir = chainerrl.experiments.prepare_output_dir(None, outdir)\n",
        "\n",
        "log_format = '%(levelname)-8s - %(asctime)s - [%(name)s %(funcName)s %(lineno)d] %(message)s'\n",
        "logging.basicConfig(filename=os.path.join(outdir, 'log.txt'), format=log_format, level=logging_level)\n",
        "console_handler = logging.StreamHandler()\n",
        "console_handler.setLevel(logging_level)\n",
        "console_handler.setFormatter(logging.Formatter(log_format))\n",
        "logging.getLogger('').addHandler(console_handler)  # add hander to the root logger\n",
        "\n",
        "from logging import getLogger\n",
        "logger = getLogger(__name__)\n",
        "logger.info('Output files are saved in {}'.format(outdir))\n",
        "\n",
        "import utils\n",
        "utils.log_versions()"
      ],
      "metadata": {
        "colab": {
          "base_uri": "https://localhost:8080/"
        },
        "id": "nX42i8bopjDR",
        "outputId": "b50763ec-2a3c-4ec4-ecd2-73ebf2de7c0e"
      },
      "execution_count": 23,
      "outputs": [
        {
          "output_type": "stream",
          "name": "stderr",
          "text": [
            "INFO     - 2022-01-28 01:16:01,360 - [__main__ <module> 15] Output files are saved in ./results/20220128T011600.774836\n",
            "INFO     - 2022-01-28 01:16:01,713 - [utils log_versions 9] 3.7.12 (default, Sep 10 2021, 00:21:48) \n",
            "[GCC 7.5.0]\n",
            "INFO     - 2022-01-28 01:16:01,937 - [utils log_versions 10] absl-py==1.0.0,alabaster==0.7.12,albumentations==0.1.12,altair==4.2.0,appdirs==1.4.4,argon2-cffi==21.3.0,argon2-cffi-bindings==21.2.0,arviz==0.11.4,astor==0.8.1,astropy==4.3.1,astunparse==1.6.3,atari-py==0.2.9,atomicwrites==1.4.0,attrs==21.4.0,audioread==2.1.9,autograd==1.3,Babel==2.9.1,backcall==0.2.0,beautifulsoup4==4.6.3,bleach==4.1.0,blis==0.4.1,bokeh==2.3.3,Bottleneck==1.3.2,branca==0.4.2,bs4==0.0.1,CacheControl==0.12.10,cached-property==1.5.2,cachetools==4.2.4,catalogue==1.0.0,certifi==2021.10.8,cffi==1.15.0,cftime==1.5.2,chainer==7.8.1,chainerrl==0.8.0,chardet==3.0.4,charset-normalizer==2.0.10,click==7.1.2,cloudpickle==1.3.0,cmake==3.12.0,cmdstanpy==0.9.5,colabgymrender==1.0.9,colorcet==3.0.0,coloredlogs==15.0.1,colorlover==0.3.0,community==1.0.0b1,contextlib2==0.5.5,convertdate==2.4.0,coverage==3.7.1,coveralls==0.5,crcmod==1.7,cufflinks==0.17.3,cupy-cuda111==9.4.0,cvxopt==1.2.7,cvxpy==1.0.31,cycler==0.11.0,cymem==2.0.6,Cython==0.29.26,daemoniker==0.2.3,daft==0.0.4,dask==2.12.0,datascience==0.10.6,debugpy==1.0.0,decorator==4.4.2,defusedxml==0.7.1,descartes==1.1.0,dill==0.3.4,distributed==1.25.3,dlib @ file:///dlib-19.18.0-cp37-cp37m-linux_x86_64.whl,dm-tree==0.1.6,docopt==0.6.2,docutils==0.17.1,dopamine-rl==1.0.5,earthengine-api==0.1.295,easydict==1.9,EasyProcess==1.1,ecos==2.0.10,editdistance==0.5.3,en-core-web-sm @ https://github.com/explosion/spacy-models/releases/download/en_core_web_sm-2.2.5/en_core_web_sm-2.2.5.tar.gz,entrypoints==0.3,ephem==4.1.3,et-xmlfile==1.1.0,fa2==0.3.5,fastai==1.0.61,fastdtw==0.3.4,fastprogress==1.0.0,fastrlock==0.8,fbprophet==0.7.1,feather-format==0.4.1,filelock==3.4.2,firebase-admin==4.4.0,fix-yahoo-finance==0.0.22,Flask==1.1.4,flatbuffers==2.0,folium==0.8.3,future==0.16.0,gast==0.4.0,GDAL==2.2.2,gdown==3.6.4,gensim==3.6.0,geographiclib==1.52,geopy==1.17.0,gin-config==0.5.0,glob2==0.7,google==2.0.3,google-api-core==1.26.3,google-api-python-client==1.12.10,google-auth==1.35.0,google-auth-httplib2==0.0.4,google-auth-oauthlib==0.4.6,google-cloud-bigquery==1.21.0,google-cloud-bigquery-storage==1.1.0,google-cloud-core==1.0.3,google-cloud-datastore==1.8.0,google-cloud-firestore==1.7.0,google-cloud-language==1.2.0,google-cloud-storage==1.18.1,google-cloud-translate==1.5.0,google-colab @ file:///colabtools/dist/google-colab-1.0.0.tar.gz,google-pasta==0.2.0,google-resumable-media==0.4.1,googleapis-common-protos==1.54.0,googledrivedownloader==0.4,graphviz==0.10.1,greenlet==1.1.2,grpcio==1.43.0,gspread==3.4.2,gspread-dataframe==3.0.8,gym==0.17.3,h5py==3.1.0,HeapDict==1.0.1,hijri-converter==2.2.2,holidays==0.10.5.2,holoviews==1.14.7,html5lib==1.0.1,httpimport==0.5.18,httplib2==0.17.4,httplib2shim==0.0.3,humanfriendly==10.0,humanize==0.5.1,hyperopt==0.1.2,ideep4py==2.0.0.post3,idna==2.10,imageio==2.4.1,imagesize==1.3.0,imbalanced-learn==0.8.1,imblearn==0.0,imgaug==0.2.9,importlib-metadata==4.10.1,importlib-resources==5.4.0,imutils==0.5.4,inflect==2.1.0,iniconfig==1.1.1,intel-openmp==2022.0.2,intervaltree==2.1.0,ipykernel==4.10.1,ipython==5.5.0,ipython-genutils==0.2.0,ipython-sql==0.3.9,ipywidgets==7.6.5,itsdangerous==1.1.0,jax==0.2.25,jaxlib @ https://storage.googleapis.com/jax-releases/cuda111/jaxlib-0.1.71+cuda111-cp37-none-manylinux2010_x86_64.whl,jdcal==1.4.1,jedi==0.18.1,jieba==0.42.1,Jinja2==2.11.3,joblib==1.1.0,jpeg4py==0.1.4,jsonschema==4.3.3,jupyter==1.0.0,jupyter-client==5.3.5,jupyter-console==5.2.0,jupyter-core==4.9.1,jupyterlab-pygments==0.1.2,jupyterlab-widgets==1.0.2,kaggle==1.5.12,kapre==0.3.7,keras==2.7.0,Keras-Preprocessing==1.1.2,keras-vis==0.4.1,kiwisolver==1.3.2,korean-lunar-calendar==0.2.1,libclang==12.0.0,librosa==0.8.1,lightgbm==2.2.3,llvmlite==0.34.0,lmdb==0.99,LunarCalendar==0.0.9,lxml==4.2.6,Markdown==3.3.6,MarkupSafe==2.0.1,matplotlib==3.2.2,matplotlib-inline==0.1.3,matplotlib-venn==0.11.6,missingno==0.5.0,mistune==0.8.4,mizani==0.6.0,mkl==2019.0,mlxtend==0.14.0,more-itertools==8.12.0,moviepy==0.2.3.5,mpmath==1.2.1,msgpack==1.0.3,multiprocess==0.70.12.2,multitasking==0.0.10,murmurhash==1.0.6,music21==5.5.0,natsort==5.5.0,nbclient==0.5.10,nbconvert==5.6.1,nbformat==5.1.3,nest-asyncio==1.5.4,netCDF4==1.5.8,networkx==2.6.3,nibabel==3.0.2,nltk==3.2.5,notebook==5.3.1,numba==0.51.2,numexpr==2.8.1,numpy==1.19.5,nvidia-ml-py3==7.352.0,oauth2client==4.1.3,oauthlib==3.1.1,okgrade==0.4.3,opencv-contrib-python==4.1.2.30,opencv-python==4.1.2.30,openpyxl==2.5.9,opt-einsum==3.3.0,osqp==0.6.2.post0,packaging==21.3,palettable==3.3.0,pandas==1.1.5,pandas-datareader==0.9.0,pandas-gbq==0.13.3,pandas-profiling==1.4.1,pandocfilters==1.5.0,panel==0.12.1,param==1.12.0,parso==0.8.3,pathlib==1.0.1,patsy==0.5.2,pep517==0.12.0,pexpect==4.8.0,pickleshare==0.7.5,Pillow==7.1.2,pip==21.1.3,pip-tools==6.2.0,plac==1.1.3,plotly==5.5.0,plotnine==0.6.0,pluggy==0.7.1,pooch==1.6.0,portpicker==1.3.9,prefetch-generator==1.0.1,preshed==3.0.6,prettytable==3.0.0,progressbar2==3.38.0,prometheus-client==0.12.0,promise==2.3,prompt-toolkit==1.0.18,protobuf==3.17.3,psutil==5.4.8,psycopg2==2.7.6.1,ptyprocess==0.7.0,py==1.11.0,pyarrow==3.0.0,pyasn1==0.4.8,pyasn1-modules==0.2.8,pycocotools==2.0.4,pycparser==2.21,pyct==0.4.8,pydata-google-auth==1.3.0,pydot==1.3.0,pydot-ng==2.0.0,pydotplus==2.0.2,PyDrive==1.3.1,pyemd==0.5.1,pyerfa==2.0.0.1,pyglet==1.5.0,Pygments==2.6.1,pygobject==3.26.1,pymc3==3.11.4,PyMeeus==0.5.11,pymongo==4.0.1,pymystem3==0.2.0,PyOpenGL==3.1.5,pyparsing==3.0.7,Pyro4==4.82,pyrsistent==0.18.1,pysndfile==1.3.8,PySocks==1.7.1,pystan==2.19.1.1,pytest==3.6.4,python-apt==0.0.0,python-chess==0.23.11,python-dateutil==2.8.2,python-louvain==0.15,python-slugify==5.0.2,python-utils==3.1.0,pytz==2018.9,PyVirtualDisplay==2.2,pyviz-comms==2.1.0,PyWavelets==1.2.0,PyYAML==3.13,pyzmq==22.3.0,qdldl==0.1.5.post0,qtconsole==5.2.2,QtPy==2.0.0,regex==2019.12.20,requests==2.23.0,requests-oauthlib==1.3.0,resampy==0.2.2,rpy2==3.4.5,rsa==4.8,scikit-image==0.18.3,scikit-learn==1.0.2,scipy==1.4.1,screen-resolution-extra==0.0.0,scs==3.1.0,seaborn==0.11.2,semver==2.13.0,Send2Trash==1.8.0,serpent==1.40,setuptools==57.4.0,setuptools-git==1.2,Shapely==1.8.0,simplegeneric==0.8.1,six==1.15.0,sklearn==0.0,sklearn-pandas==1.8.0,smart-open==5.2.1,snowballstemmer==2.2.0,sortedcontainers==2.4.0,SoundFile==0.10.3.post1,spacy==2.2.4,Sphinx==1.8.6,sphinxcontrib-serializinghtml==1.1.5,sphinxcontrib-websupport==1.2.4,SQLAlchemy==1.4.31,sqlparse==0.4.2,srsly==1.0.5,statsmodels==0.10.2,sympy==1.7.1,tables==3.4.4,tabulate==0.8.9,tblib==1.7.0,tenacity==8.0.1,tensorboard==2.7.0,tensorboard-data-server==0.6.1,tensorboard-plugin-wit==1.8.1,tensorflow @ file:///tensorflow-2.7.0-cp37-cp37m-linux_x86_64.whl,tensorflow-datasets==4.0.1,tensorflow-estimator==2.7.0,tensorflow-gcs-config==2.7.0,tensorflow-hub==0.12.0,tensorflow-io-gcs-filesystem==0.23.1,tensorflow-metadata==1.6.0,tensorflow-probability==0.15.0,termcolor==1.1.0,terminado==0.12.1,testpath==0.5.0,text-unidecode==1.3,textblob==0.15.3,Theano-PyMC==1.1.2,thinc==7.4.0,threadpoolctl==3.0.0,tifffile==2021.11.2,toml==0.10.2,tomli==2.0.0,toolz==0.11.2,torch @ https://download.pytorch.org/whl/cu111/torch-1.10.0%2Bcu111-cp37-cp37m-linux_x86_64.whl,torchaudio @ https://download.pytorch.org/whl/cu111/torchaudio-0.10.0%2Bcu111-cp37-cp37m-linux_x86_64.whl,torchsummary==1.5.1,torchtext==0.11.0,torchvision @ https://download.pytorch.org/whl/cu111/torchvision-0.11.1%2Bcu111-cp37-cp37m-linux_x86_64.whl,tornado==5.1.1,tqdm==4.62.3,traitlets==5.1.1,tweepy==3.10.0,typeguard==2.7.1,typing-extensions==3.10.0.2,tzlocal==1.5.1,uritemplate==3.0.1,urllib3==1.24.3,vega-datasets==0.9.0,wasabi==0.9.0,wcwidth==0.2.5,webencodings==0.5.1,Werkzeug==1.0.1,wheel==0.37.1,widgetsnbextension==3.5.2,wordcloud==1.5.0,wrapt==1.13.3,xarray==0.18.2,xgboost==0.90,xkit==0.0.0,xlrd==1.1.0,xlwt==1.3.0,xmltodict==0.12.0,yellowbrick==1.3.post1,zict==2.0.0,zipp==3.7.0\n"
          ]
        }
      ]
    },
    {
      "cell_type": "code",
      "source": [
        "from env_wrappers import (\n",
        "    SerialDiscreteActionWrapper, CombineActionWrapper, SerialDiscreteCombineActionWrapper,\n",
        "    ContinuingTimeLimitMonitor,\n",
        "    MoveAxisWrapper, FrameSkip, ObtainPoVWrapper, PoVWithCompassAngleWrapper, GrayScaleWrapper)\n",
        "from chainerrl.wrappers import ContinuingTimeLimit\n",
        "from chainerrl.wrappers.atari_wrappers import FrameStack, ScaledFloatFrame\n",
        "import os\n",
        "import numpy as np\n",
        "\n",
        "env = gym.make('MineRLTreechopFlat-v0')\n",
        "def wrap_env(env,nb_step=8000,rotmax=None,outdir=outdir,test=False,eco=False):\n",
        "    env = env.env\n",
        "    max_episode_steps = nb_step\n",
        "    if eco:\n",
        "        env = EcologicalWrapper(env)\n",
        "    env = ContinuingTimeLimit(env, max_episode_steps=max_episode_steps)\n",
        "\n",
        "    #env = RotMax(env,rotmax=rotmax)\n",
        "    env = ContinuingTimeLimitMonitor(\n",
        "                    env, os.path.join(outdir, 'monitor'),\n",
        "                    mode='evaluation' if test else 'training', video_callable=lambda episode_id: episode_id%10==0)\n",
        "\n",
        "    env = FrameSkip(env, frame_skip)\n",
        "\n",
        "    env = ObtainPoVWrapper(env)\n",
        "\n",
        "    env = MoveAxisWrapper(env, source=-1, destination=0)  # convert hwc -> chw as Chainer requires.\n",
        "    env = ScaledFloatFrame(env)\n",
        "\n",
        "    env = FrameStack(env, frame_stack, channel_order='chw')\n",
        "\n",
        "    env = SerialDiscreteActionWrapper(env,always_keys=always_keys, reverse_keys=reverse_keys, exclude_keys=exclude_keys, exclude_noop=exclude_noop,allow_pitch=allow_pitch,num_camera_discretize=3,max_camera_range=3)\n",
        "    return env\n",
        "env = wrap_env(env)"
      ],
      "metadata": {
        "colab": {
          "base_uri": "https://localhost:8080/"
        },
        "id": "AkD9t1-ob6ik",
        "outputId": "953b9623-7dd9-40f4-dc70-c8ce2ec84b81"
      },
      "execution_count": 24,
      "outputs": [
        {
          "output_type": "stream",
          "name": "stderr",
          "text": [
            "INFO     - 2022-01-28 01:16:01,975 - [env_wrappers __init__ 483] always pressing keys: ['attack']\n",
            "INFO     - 2022-01-28 01:16:01,976 - [env_wrappers __init__ 489] reversed pressing keys: ['forward']\n",
            "INFO     - 2022-01-28 01:16:01,978 - [env_wrappers __init__ 494] always ignored keys: ['back', 'left', 'right', 'sneak', 'sprint']\n",
            "INFO     - 2022-01-28 01:16:01,980 - [env_wrappers __init__ 553] Dict(attack:Discrete(2), back:Discrete(2), camera:Box(low=-180.0, high=180.0, shape=(2,)), forward:Discrete(2), jump:Discrete(2), left:Discrete(2), right:Discrete(2), sneak:Discrete(2), sprint:Discrete(2)) is converted to Discrete(11).\n"
          ]
        }
      ]
    },
    {
      "cell_type": "code",
      "source": [
        "from q_functions import NatureDQNHead, A3CFF\n",
        "def parse_arch(arch, n_actions, n_input_channels):\n",
        "    if arch == 'nature':\n",
        "        head = NatureDQNHead(n_input_channels=n_input_channels, n_output_channels=512)\n",
        "    else:\n",
        "        raise RuntimeError('Unsupported architecture name: {}'.format(arch))\n",
        "    return A3CFF(n_actions, head)"
      ],
      "metadata": {
        "id": "TNT6YyKFs3Lh"
      },
      "execution_count": 25,
      "outputs": []
    },
    {
      "cell_type": "code",
      "source": [
        "model = parse_arch('nature',env.action_space.n,env.observation_space.shape[0])"
      ],
      "metadata": {
        "id": "xnX9DkeHhPVA"
      },
      "execution_count": 26,
      "outputs": []
    },
    {
      "cell_type": "code",
      "source": [
        "opt = chainer.optimizers.Adam(alpha=lr, eps=adam_eps)\n",
        "opt.setup(model)\n",
        "opt.add_hook(chainer.optimizer.GradientClipping(40))\n",
        "if weight_decay > 0:\n",
        "    opt.add_hook(chainerrl.optimizers.nonbias_weight_decay.NonbiasWeightDecay(weight_decay))"
      ],
      "metadata": {
        "id": "uXUD848pcDvN"
      },
      "execution_count": 27,
      "outputs": []
    },
    {
      "cell_type": "code",
      "source": [
        "agent = chainerrl.agents.ppo.PPO(\n",
        "        model, opt, gpu=gpu, gamma=gamma, phi=phi, update_interval=update_interval,\n",
        "        minibatch_size=32, epochs=epochs, clip_eps=clip_eps, standardize_advantages=standardize_advantages)"
      ],
      "metadata": {
        "id": "r3UrKVA_bJ-t"
      },
      "execution_count": 28,
      "outputs": []
    },
    {
      "cell_type": "code",
      "source": [
        "# Linearly decay the learning rate to zero\n",
        "def lr_setter(env, agent, value):\n",
        "    agent.optimizer.alpha = value\n",
        "\n",
        "lr_decay_hook = chainerrl.experiments.LinearInterpolationHook(\n",
        "    steps, lr, 0, lr_setter)\n",
        "\n",
        "# Linearly decay the clipping parameter to zero\n",
        "def clip_eps_setter(env, agent, value):\n",
        "    agent.clip_eps = max(value, 1e-8)\n",
        "\n",
        "clip_eps_decay_hook = chainerrl.experiments.LinearInterpolationHook(\n",
        "    steps, clip_eps, 0, clip_eps_setter)"
      ],
      "metadata": {
        "id": "HVT1FYTJpHZN"
      },
      "execution_count": 29,
      "outputs": []
    },
    {
      "cell_type": "code",
      "source": [
        "!rm -r ./results"
      ],
      "metadata": {
        "id": "NrxffzBqa9kp"
      },
      "execution_count": 31,
      "outputs": []
    },
    {
      "cell_type": "code",
      "source": [
        "for env_name,rotmax,nb_ep,eco in [('MineRLTreechopFlat-v0',None,200,False),('MineRLTreechop-v0',None,200,False)]:\n",
        "    print('\\n\\n\\n\\n\\n'+env_name+'\\n\\n\\n\\n')\n",
        "    steps = (2000//4)*nb_ep\n",
        "    eval_interval = (2000//4)*29\n",
        "    outdir = './results_'+env_name+str(rotmax)\n",
        "    outdir = chainerrl.experiments.prepare_output_dir(None, outdir)\n",
        "    expl_env = wrap_env(gym.make(env_name),nb_step=2000,rotmax=rotmax,outdir=outdir,eco=eco)\n",
        "    eval_env = wrap_env(gym.make(env_name),nb_step=8000,rotmax=rotmax,outdir=outdir,test=True,eco=eco)\n",
        "    chainerrl.experiments.train_agent_with_evaluation(\n",
        "            agent=agent, env=expl_env, steps=steps,\n",
        "            eval_n_steps=None, eval_n_episodes=eval_n_runs, eval_interval=eval_interval,\n",
        "            outdir=outdir, eval_env=eval_env,\n",
        "            step_hooks=[lr_decay_hook, clip_eps_decay_hook],\n",
        "            save_best_so_far_agent=True,\n",
        "            #train_max_episode_len=2000,\n",
        "            #eval_max_episode_len=2000\n",
        "        ) "
      ],
      "metadata": {
        "id": "fkI9NdEGbxuk"
      },
      "execution_count": null,
      "outputs": []
    }
  ]
}